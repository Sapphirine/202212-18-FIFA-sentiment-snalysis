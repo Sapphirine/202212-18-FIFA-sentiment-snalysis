{
 "cells": [
  {
   "cell_type": "markdown",
   "source": [
    "# The code where we do final analysis and generate insights"
   ],
   "metadata": {
    "collapsed": false
   }
  },
  {
   "cell_type": "code",
   "execution_count": null,
   "metadata": {
    "collapsed": true
   },
   "outputs": [],
   "source": [
    "import datetime as dt\n",
    "import matplotlib.pyplot as plt\n",
    "import numpy as np\n",
    "import pandas as pd\n",
    "import tensorflow as tf\n",
    "import tensorflow_text as text"
   ]
  },
  {
   "cell_type": "code",
   "execution_count": null,
   "outputs": [],
   "source": [
    "AUTOTUNE = tf.data.AUTOTUNE\n",
    "batch_size = 32"
   ],
   "metadata": {
    "collapsed": false
   }
  },
  {
   "cell_type": "code",
   "execution_count": null,
   "outputs": [],
   "source": [
    "my_model = tf.keras.models.load_model(\"saved_models/twitter_bert\")"
   ],
   "metadata": {
    "collapsed": false
   }
  },
  {
   "cell_type": "code",
   "execution_count": null,
   "outputs": [],
   "source": [
    "def clean_text(data):\n",
    "    data.text = data.text.str.encode(\"ascii\", \"ignore\").str.decode(\"ascii\")\n",
    "    data.text = data.text.str.replace(r\"https?:\\/\\/\\S*\\s?\", \"\", regex = True)\n",
    "    data.text = data.text.str.replace(r\"@\\w+\", \"\", regex = True)\n",
    "    data.text = data.text.str.replace(r\"#\\w+\", \"\", regex = True)\n",
    "    data.text = data.text.str.replace(r\"\\n\", \"\", regex = True)\n",
    "    return data"
   ],
   "metadata": {
    "collapsed": false
   }
  },
  {
   "cell_type": "code",
   "execution_count": null,
   "outputs": [],
   "source": [
    "def predict_sentiment(data):\n",
    "    data_batch = tf.data.Dataset.from_tensor_slices(data.text)\n",
    "    data_batch = data_batch.batch(batch_size).prefetch(buffer_size = AUTOTUNE)\n",
    "    sent_prob = my_model.predict(data_batch)\n",
    "    return sent_prob"
   ],
   "metadata": {
    "collapsed": false
   }
  },
  {
   "cell_type": "code",
   "execution_count": null,
   "outputs": [],
   "source": [
    "def group_10_min_sentiment(data, y_prob):\n",
    "    data[\"sentiment\"] = y_prob > 0.5\n",
    "    data[\"min10\"] = np.floor((pd.to_datetime(data.time) - start_time).dt.total_seconds() / 600)\n",
    "    return data[[\"min10\", \"sentiment\"]]"
   ],
   "metadata": {
    "collapsed": false
   }
  },
  {
   "cell_type": "code",
   "execution_count": null,
   "outputs": [],
   "source": [
    "def group_8_hour_sentiment(data, y_prob):\n",
    "    data[\"sentiment\"] = y_prob > 0.5\n",
    "    data[\"hour8\"] = np.floor((pd.to_datetime(data.time) - start_day).dt.total_seconds() / 28800)\n",
    "    return data[[\"hour8\", \"sentiment\"]]"
   ],
   "metadata": {
    "collapsed": false
   }
  },
  {
   "cell_type": "code",
   "execution_count": null,
   "outputs": [],
   "source": [
    "def group_12_hour_sentiment(data, y_prob, start_day):\n",
    "    data[\"sentiment\"] = y_prob > 0.5\n",
    "    data[\"hour12\"] = np.floor((pd.to_datetime(data.time) - start_day).dt.total_seconds() / 43200)\n",
    "    return data[[\"hour12\", \"sentiment\", \"country\"]]"
   ],
   "metadata": {
    "collapsed": false
   }
  },
  {
   "cell_type": "code",
   "execution_count": null,
   "outputs": [],
   "source": [
    "def split_pos_neg(data, time = \"min10\"):\n",
    "    data_pos = data[data.sentiment]\n",
    "    data_neg = data[~data.sentiment]\n",
    "    data_pos = data_pos.groupby(time).size()\n",
    "    data_neg = data_neg.groupby(time).size()\n",
    "    return data_pos, data_neg"
   ],
   "metadata": {
    "collapsed": false
   }
  },
  {
   "cell_type": "code",
   "execution_count": null,
   "outputs": [],
   "source": [
    "data_stream = pd.read_csv(\"dataset/data_stream.csv\", index_col = 0)"
   ],
   "metadata": {
    "collapsed": false
   }
  },
  {
   "cell_type": "code",
   "execution_count": null,
   "outputs": [],
   "source": [
    "data_stream"
   ],
   "metadata": {
    "collapsed": false
   }
  },
  {
   "cell_type": "code",
   "execution_count": null,
   "outputs": [],
   "source": [
    "data_stream = clean_text(data_stream)"
   ],
   "metadata": {
    "collapsed": false
   }
  },
  {
   "cell_type": "code",
   "execution_count": null,
   "outputs": [],
   "source": [
    "y_prob = predict_sentiment(data_stream)"
   ],
   "metadata": {
    "collapsed": false
   }
  },
  {
   "cell_type": "code",
   "execution_count": null,
   "outputs": [],
   "source": [
    "np.mean(y_prob > 0.5)"
   ],
   "metadata": {
    "collapsed": false
   }
  },
  {
   "cell_type": "code",
   "execution_count": null,
   "outputs": [],
   "source": [
    "data_stream[\"sentiment\"] = (y_prob > 0.5)"
   ],
   "metadata": {
    "collapsed": false
   }
  },
  {
   "cell_type": "code",
   "execution_count": null,
   "outputs": [],
   "source": [
    "data_stream[data_stream.sentiment].to_csv(\"dataset/data_stream_pos.csv\")\n",
    "data_stream[~data_stream.sentiment].to_csv(\"dataset/data_stream_neg.csv\")"
   ],
   "metadata": {
    "collapsed": false
   }
  },
  {
   "cell_type": "code",
   "execution_count": null,
   "outputs": [],
   "source": [
    "y_prob"
   ],
   "metadata": {
    "collapsed": false
   }
  },
  {
   "cell_type": "code",
   "execution_count": null,
   "outputs": [],
   "source": [],
   "metadata": {
    "collapsed": false
   }
  },
  {
   "cell_type": "code",
   "execution_count": null,
   "outputs": [],
   "source": [
    "data_agt = pd.read_csv(\"dataset/data_stream_agt.csv\", index_col = 0)\n",
    "data_frc = pd.read_csv(\"dataset/data_stream_frc.csv\", index_col = 0)"
   ],
   "metadata": {
    "collapsed": false
   }
  },
  {
   "cell_type": "code",
   "execution_count": null,
   "outputs": [],
   "source": [
    "data_agt.head(10)"
   ],
   "metadata": {
    "collapsed": false
   }
  },
  {
   "cell_type": "code",
   "execution_count": null,
   "outputs": [],
   "source": [
    "data_agt = clean_text(data_agt)\n",
    "data_frc = clean_text(data_frc)"
   ],
   "metadata": {
    "collapsed": false
   }
  },
  {
   "cell_type": "code",
   "execution_count": null,
   "outputs": [],
   "source": [
    "data_text_agt = tf.data.Dataset.from_tensor_slices(data_agt.text)\n",
    "data_text_agt = data_text_agt.batch(batch_size).prefetch(buffer_size = AUTOTUNE)\n",
    "data_text_frc = tf.data.Dataset.from_tensor_slices(data_frc.text)\n",
    "data_text_frc = data_text_frc.batch(batch_size).prefetch(buffer_size = AUTOTUNE)"
   ],
   "metadata": {
    "collapsed": false
   }
  },
  {
   "cell_type": "code",
   "execution_count": null,
   "outputs": [],
   "source": [
    "y_prob_agt = my_model.predict(data_text_agt)\n",
    "y_prob_frc = my_model.predict(data_text_frc)"
   ],
   "metadata": {
    "collapsed": false
   }
  },
  {
   "cell_type": "code",
   "execution_count": null,
   "outputs": [],
   "source": [
    "_, count_agt = np.unique(y_prob_agt > 0.5, return_counts = True)\n",
    "_, count_frc = np.unique(y_prob_frc > 0.5, return_counts = True)"
   ],
   "metadata": {
    "collapsed": false
   }
  },
  {
   "cell_type": "code",
   "execution_count": null,
   "outputs": [],
   "source": [
    "count_agt, count_frc"
   ],
   "metadata": {
    "collapsed": false
   }
  },
  {
   "cell_type": "code",
   "execution_count": null,
   "outputs": [],
   "source": [
    "plt.bar(x = [\"Argentina\", \"France\"], height = [count_agt[1], count_frc[1]], label = \"Positive\")\n",
    "plt.bar(x = [\"Argentina\", \"France\"], height = [-count_agt[0], -count_frc[0]], label = \"Negative\")\n",
    "plt.legend()"
   ],
   "metadata": {
    "collapsed": false
   }
  },
  {
   "cell_type": "code",
   "execution_count": null,
   "outputs": [],
   "source": [
    "y_pred_agt = np.select([y_prob_agt > 0.8, y_prob_agt > 0.2], [1, 0], default = -1)\n",
    "_, pctg_agt = np.unique(y_pred_agt, return_counts = True)\n",
    "pctg_agt = pctg_agt / np.sum(pctg_agt)"
   ],
   "metadata": {
    "collapsed": false
   }
  },
  {
   "cell_type": "code",
   "execution_count": null,
   "outputs": [],
   "source": [
    "y_pred_frc = np.select([y_prob_frc > 0.8, y_prob_frc > 0.2], [1, 0], default = -1)\n",
    "_, pctg_frc = np.unique(y_pred_frc, return_counts = True)\n",
    "pctg_frc = pctg_frc / np.sum(pctg_frc)"
   ],
   "metadata": {
    "collapsed": false
   }
  },
  {
   "cell_type": "code",
   "execution_count": null,
   "outputs": [],
   "source": [
    "pctg_agt, pctg_frc"
   ],
   "metadata": {
    "collapsed": false
   }
  },
  {
   "cell_type": "code",
   "execution_count": null,
   "outputs": [],
   "source": [
    "color_map = plt.cm.RdBu\n",
    "plt.barh(y = [\"Argentina\", \"France\"], width = [pctg_agt[2], pctg_frc[2]], color = \"#67a9cf\", label = \"Positive\")\n",
    "plt.barh(y = [\"Argentina\", \"France\"], width = [pctg_agt[1], pctg_frc[1]], left = [pctg_agt[2], pctg_frc[2]], color = \"#e0e0e0\", label = \"Neutral\")\n",
    "plt.barh(y = [\"Argentina\", \"France\"], width = [pctg_agt[0], pctg_frc[0]], left = [pctg_agt[1] + pctg_agt[2], pctg_frc[1] + pctg_frc[2]], color = \"#ef8a62\", label = \"Negative\")\n",
    "plt.legend()"
   ],
   "metadata": {
    "collapsed": false
   }
  },
  {
   "cell_type": "code",
   "execution_count": null,
   "outputs": [],
   "source": [
    "data_agt[\"sentiment\"] = y_prob_agt\n",
    "data_frc[\"sentiment\"] = y_prob_frc"
   ],
   "metadata": {
    "collapsed": false
   }
  },
  {
   "cell_type": "code",
   "execution_count": null,
   "outputs": [],
   "source": [
    "data_agt.to_csv(\"dataset/data_stream_agt_sent.csv\")\n",
    "data_frc.to_csv(\"dataset/data_stream_frc_sent.csv\")"
   ],
   "metadata": {
    "collapsed": false
   }
  },
  {
   "cell_type": "code",
   "execution_count": null,
   "outputs": [],
   "source": [],
   "metadata": {
    "collapsed": false
   }
  },
  {
   "cell_type": "code",
   "execution_count": null,
   "outputs": [],
   "source": [
    "data_agt = pd.read_csv(\"dataset/data_static_agt.csv\", index_col = 0)"
   ],
   "metadata": {
    "collapsed": false
   }
  },
  {
   "cell_type": "code",
   "execution_count": null,
   "outputs": [],
   "source": [
    "data_agt"
   ],
   "metadata": {
    "collapsed": false
   }
  },
  {
   "cell_type": "code",
   "execution_count": null,
   "outputs": [],
   "source": [
    "data_agt = clean_text(data_agt)"
   ],
   "metadata": {
    "collapsed": false
   }
  },
  {
   "cell_type": "code",
   "execution_count": null,
   "outputs": [],
   "source": [
    "y_prob_agt = predict_sentiment(data_agt)"
   ],
   "metadata": {
    "collapsed": false
   }
  },
  {
   "cell_type": "code",
   "execution_count": null,
   "outputs": [],
   "source": [
    "start_time = dt.datetime.strptime(\"2022-12-09 19:00:00 +0000\", \"%Y-%m-%d %H:%M:%S %z\")"
   ],
   "metadata": {
    "collapsed": false
   }
  },
  {
   "cell_type": "code",
   "execution_count": null,
   "outputs": [],
   "source": [
    "data_agt = group_10_min_sentiment(data_agt, y_prob_agt)"
   ],
   "metadata": {
    "collapsed": false
   }
  },
  {
   "cell_type": "code",
   "execution_count": null,
   "outputs": [],
   "source": [
    "data_agt_pos, data_agt_neg = split_pos_neg(data_agt)"
   ],
   "metadata": {
    "collapsed": false
   }
  },
  {
   "cell_type": "code",
   "execution_count": null,
   "outputs": [],
   "source": [
    "data_ntl = pd.read_csv(\"dataset/data_static_ntl.csv\", index_col = 0)"
   ],
   "metadata": {
    "collapsed": false
   }
  },
  {
   "cell_type": "code",
   "execution_count": null,
   "outputs": [],
   "source": [
    "data_ntl = clean_text(data_ntl)"
   ],
   "metadata": {
    "collapsed": false
   }
  },
  {
   "cell_type": "code",
   "execution_count": null,
   "outputs": [],
   "source": [
    "y_prob_ntl = predict_sentiment(data_ntl)"
   ],
   "metadata": {
    "collapsed": false
   }
  },
  {
   "cell_type": "code",
   "execution_count": null,
   "outputs": [],
   "source": [
    "data_ntl = group_10_min_sentiment(data_ntl, y_prob_ntl)\n",
    "data_ntl_pos, data_ntl_neg = split_pos_neg(data_ntl)"
   ],
   "metadata": {
    "collapsed": false
   }
  },
  {
   "cell_type": "code",
   "execution_count": null,
   "outputs": [],
   "source": [
    "data_agt_martinez = pd.read_csv(\"dataset/data_static_agt_martinez.csv\", index_col = 0)\n",
    "data_agt_martinez = clean_text(data_agt_martinez)\n",
    "y_prob_agt_martinez = predict_sentiment(data_agt_martinez)\n",
    "data_agt_martinez = group_10_min_sentiment(data_agt_martinez, y_prob_agt_martinez)\n",
    "data_agt_martinez_pos, data_agt_martinez_neg = split_pos_neg(data_agt_martinez)"
   ],
   "metadata": {
    "collapsed": false
   }
  },
  {
   "cell_type": "code",
   "execution_count": null,
   "outputs": [],
   "source": [
    "data_agt_messi = pd.read_csv(\"dataset/data_static_agt_messi.csv\", index_col = 0)\n",
    "data_agt_messi = clean_text(data_agt_messi)\n",
    "y_prob_agt_messi = predict_sentiment(data_agt_messi)\n",
    "data_agt_messi = group_10_min_sentiment(data_agt_messi, y_prob_agt_messi)\n",
    "data_agt_messi_pos, data_agt_messi_neg = split_pos_neg(data_agt_messi)"
   ],
   "metadata": {
    "collapsed": false
   }
  },
  {
   "cell_type": "code",
   "execution_count": null,
   "outputs": [],
   "source": [
    "data_agt_paredes = pd.read_csv(\"dataset/data_static_agt_paredes.csv\", index_col = 0)\n",
    "data_agt_paredes = clean_text(data_agt_paredes)\n",
    "y_prob_agt_paredes = predict_sentiment(data_agt_paredes)\n",
    "data_agt_paredes = group_10_min_sentiment(data_agt_paredes, y_prob_agt_paredes)\n",
    "data_agt_paredes_pos, data_agt_paredes_neg = split_pos_neg(data_agt_paredes)"
   ],
   "metadata": {
    "collapsed": false
   }
  },
  {
   "cell_type": "code",
   "execution_count": null,
   "outputs": [],
   "source": [
    "data_ntl_dijk = pd.read_csv(\"dataset/data_static_ntl_dijk.csv\", index_col = 0)\n",
    "data_ntl_dijk = clean_text(data_ntl_dijk)\n",
    "y_prob_ntl_dijk = predict_sentiment(data_ntl_dijk)\n",
    "data_ntl_dijk = group_10_min_sentiment(data_ntl_dijk, y_prob_ntl_dijk)\n",
    "data_ntl_dijk_pos, data_ntl_dijk_neg = split_pos_neg(data_ntl_dijk)"
   ],
   "metadata": {
    "collapsed": false
   }
  },
  {
   "cell_type": "code",
   "execution_count": null,
   "outputs": [],
   "source": [
    "data_ntl_dumfries = pd.read_csv(\"dataset/data_static_ntl_dumfries.csv\", index_col = 0)\n",
    "data_ntl_dumfries = clean_text(data_ntl_dumfries)\n",
    "y_prob_ntl_dumfries = predict_sentiment(data_ntl_dumfries)\n",
    "data_ntl_dumfries = group_10_min_sentiment(data_ntl_dumfries, y_prob_ntl_dumfries)\n",
    "data_ntl_dumfries_pos, data_ntl_dumfries_neg = split_pos_neg(data_ntl_dumfries)"
   ],
   "metadata": {
    "collapsed": false
   }
  },
  {
   "cell_type": "code",
   "execution_count": null,
   "outputs": [],
   "source": [
    "data_agt_paredes"
   ],
   "metadata": {
    "collapsed": false
   }
  },
  {
   "cell_type": "code",
   "execution_count": null,
   "outputs": [],
   "source": [
    "data_ntl_dijk"
   ],
   "metadata": {
    "collapsed": false
   }
  },
  {
   "cell_type": "code",
   "execution_count": null,
   "outputs": [],
   "source": [
    "# plt.plot(data_agt_pos.index, data_agt_pos, label = \"Argentina\")\n",
    "# plt.plot(data_agt_neg.index, -data_agt_neg, c = plt.gca().lines[-1].get_color())\n",
    "# plt.plot(data_ntl_pos.index, data_ntl_pos, label = \"Netherlands\")\n",
    "# plt.plot(data_ntl_neg.index, -data_ntl_neg, c = plt.gca().lines[-1].get_color())\n",
    "# plt.plot(data_agt_martinez_pos.index, data_agt_martinez_pos, label = \"Martinez (AGT)\")\n",
    "# plt.plot(data_agt_martinez_neg.index, -data_agt_martinez_neg, c = plt.gca().lines[-1].get_color())\n",
    "plt.plot(data_agt_messi_pos.index, data_agt_messi_pos, label = \"Messi (AGT)\")\n",
    "plt.plot(data_agt_messi_neg.index, -data_agt_messi_neg, c = plt.gca().lines[-1].get_color())\n",
    "plt.plot(data_agt_paredes_pos.index, data_agt_paredes_pos, label = \"Paredes (AGT)\")\n",
    "plt.plot(data_agt_paredes_neg.index, -data_agt_paredes_neg, c = plt.gca().lines[-1].get_color())\n",
    "# plt.plot(data_ntl_dijk_pos.index, data_ntl_dijk_pos, label = \"van Dijk (NTL)\")\n",
    "# plt.plot(data_ntl_dijk_neg.index, -data_ntl_dijk_neg, c = plt.gca().lines[-1].get_color())\n",
    "plt.plot(data_ntl_dumfries_pos.index, data_ntl_dumfries_pos, label = \"Dumfries (NTL)\")\n",
    "plt.plot(data_ntl_dumfries_neg.index, -data_ntl_dumfries_neg, c = plt.gca().lines[-1].get_color())\n",
    "\n",
    "plt.axhline(y = 0, c = \"Black\")\n",
    "plt.xlim(0, 18)\n",
    "plt.xticks(np.arange(0, 18, 3), np.arange(0, 180, 30))\n",
    "plt.xlabel(\"Time from game starts (mins)\")\n",
    "plt.ylabel(\"Number of Tweets (Positive/Negative)\")\n",
    "plt.legend()"
   ],
   "metadata": {
    "collapsed": false
   }
  },
  {
   "cell_type": "code",
   "execution_count": null,
   "outputs": [],
   "source": [],
   "metadata": {
    "collapsed": false
   }
  },
  {
   "cell_type": "code",
   "execution_count": null,
   "outputs": [],
   "source": [
    "data_static = pd.read_csv(\"dataset/data_static.csv\", index_col = 0)"
   ],
   "metadata": {
    "collapsed": false
   }
  },
  {
   "cell_type": "code",
   "execution_count": null,
   "outputs": [],
   "source": [
    "data_static = clean_text(data_static)\n",
    "y_prob = predict_sentiment(data_static)"
   ],
   "metadata": {
    "collapsed": false
   }
  },
  {
   "cell_type": "code",
   "execution_count": null,
   "outputs": [],
   "source": [
    "start_day = dt.datetime.strptime(\"2022-12-15 00:00:00 -0500\", \"%Y-%m-%d %H:%M:%S %z\")"
   ],
   "metadata": {
    "collapsed": false
   }
  },
  {
   "cell_type": "code",
   "execution_count": null,
   "outputs": [],
   "source": [
    "data_static = group_12_hour_sentiment(data_static, y_prob, start_day)"
   ],
   "metadata": {
    "collapsed": false
   }
  },
  {
   "cell_type": "code",
   "execution_count": null,
   "outputs": [],
   "source": [
    "data_group = data_static.groupby([\"hour12\", \"country\", \"sentiment\"]).size()\n",
    "data_group = data_group.reset_index().rename(columns = {0: \"count\"})\n",
    "data_group[\"sentiment\"] = np.where(data_group[\"sentiment\"], \"positive\", \"negative\")"
   ],
   "metadata": {
    "collapsed": false
   }
  },
  {
   "cell_type": "code",
   "execution_count": null,
   "outputs": [],
   "source": [
    "data_group = data_group[data_group[\"hour12\"] >= 0]"
   ],
   "metadata": {
    "collapsed": false
   }
  },
  {
   "cell_type": "code",
   "execution_count": null,
   "outputs": [],
   "source": [
    "data_group.to_csv(\"output/viz_data.csv\")"
   ],
   "metadata": {
    "collapsed": false
   }
  },
  {
   "cell_type": "code",
   "execution_count": null,
   "outputs": [],
   "source": [],
   "metadata": {
    "collapsed": false
   }
  },
  {
   "cell_type": "code",
   "execution_count": null,
   "outputs": [],
   "source": [
    "data_frc_pos, data_frc_neg = split_pos_neg(data_frc, \"hour8\")"
   ],
   "metadata": {
    "collapsed": false
   }
  },
  {
   "cell_type": "code",
   "execution_count": null,
   "outputs": [],
   "source": [
    "data = pd.DataFrame({\"time\": data_frc_pos.index, \"pos\": data_frc_pos, \"neg\": data_frc_neg, \"country\": \"France\"}).reset_index(drop = True)"
   ],
   "metadata": {
    "collapsed": false
   }
  },
  {
   "cell_type": "code",
   "execution_count": null,
   "outputs": [],
   "source": [],
   "metadata": {
    "collapsed": false
   }
  },
  {
   "cell_type": "code",
   "execution_count": null,
   "outputs": [],
   "source": [
    "data_mrc = pd.read_csv(\"dataset/data_static_mrc.csv\", index_col = 0)\n",
    "data_mrc = clean_text(data_mrc)"
   ],
   "metadata": {
    "collapsed": false
   }
  },
  {
   "cell_type": "code",
   "execution_count": null,
   "outputs": [],
   "source": [
    "y_prob_mrc = predict_sentiment(data_mrc)"
   ],
   "metadata": {
    "collapsed": false
   }
  },
  {
   "cell_type": "code",
   "execution_count": null,
   "outputs": [],
   "source": [
    "data_mrc = group_8_hour_sentiment(data_mrc, y_prob_mrc)\n",
    "data_mrc_pos, data_mrc_neg = split_pos_neg(data_mrc, \"hour8\")"
   ],
   "metadata": {
    "collapsed": false
   }
  },
  {
   "cell_type": "code",
   "execution_count": null,
   "outputs": [],
   "source": [
    "plt.plot(data_frc_pos.index, data_frc_pos, label = \"France\")\n",
    "plt.plot(data_frc_neg.index, -data_frc_neg, c = plt.gca().lines[-1].get_color())\n",
    "plt.plot(data_mrc_pos.index, data_mrc_pos, label = \"Morocco\")\n",
    "plt.plot(data_mrc_neg.index, -data_mrc_neg, c = plt.gca().lines[-1].get_color())\n",
    "plt.axhline(y = 0, c = \"Black\")\n",
    "plt.xlim(0, 18)\n",
    "plt.xticks(np.arange(0, 18, 3), [\"12/10\", \"12/11\", \"12/12\", \"12/13\", \"12/14\", \"12/15\"])\n",
    "plt.xlabel(\"Date\")\n",
    "plt.ylabel(\"Number of Tweets (Positive/Negative)\")\n",
    "plt.legend()"
   ],
   "metadata": {
    "collapsed": false
   }
  },
  {
   "cell_type": "code",
   "execution_count": null,
   "outputs": [],
   "source": [],
   "metadata": {
    "collapsed": false
   }
  },
  {
   "cell_type": "code",
   "execution_count": null,
   "outputs": [],
   "source": [],
   "metadata": {
    "collapsed": false
   }
  }
 ],
 "metadata": {
  "kernelspec": {
   "display_name": "Python 3",
   "language": "python",
   "name": "python3"
  },
  "language_info": {
   "codemirror_mode": {
    "name": "ipython",
    "version": 2
   },
   "file_extension": ".py",
   "mimetype": "text/x-python",
   "name": "python",
   "nbconvert_exporter": "python",
   "pygments_lexer": "ipython2",
   "version": "2.7.6"
  }
 },
 "nbformat": 4,
 "nbformat_minor": 0
}
