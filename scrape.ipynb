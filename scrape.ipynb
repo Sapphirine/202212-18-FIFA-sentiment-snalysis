{
 "cells": [
  {
   "cell_type": "markdown",
   "source": [
    "# Sample Code for scraping static, historical tweets"
   ],
   "metadata": {
    "collapsed": false
   }
  },
  {
   "cell_type": "code",
   "execution_count": null,
   "outputs": [],
   "source": [
    "import datetime as dt\n",
    "import pandas as pd\n",
    "import tweepy"
   ],
   "metadata": {
    "collapsed": false
   }
  },
  {
   "cell_type": "code",
   "execution_count": null,
   "outputs": [],
   "source": [
    "# Credentials\n",
    "ACCESS_TOKEN = \"15844......\"\n",
    "ACCESS_SECRET = \"b12vf......\"\n",
    "CONSUMER_KEY = \"MWwT5......\"\n",
    "CONSUMER_SECRET = \"G3qXf......\"\n",
    "BEARER_TOKEN = \"AAAAAAAAAAAAAAAAAAAAA......\""
   ],
   "metadata": {
    "collapsed": false
   }
  },
  {
   "cell_type": "markdown",
   "source": [
    "## Using `tweepy` ver2 to search tweets in recent 7 days\n",
    "Essential access level is okay"
   ],
   "metadata": {
    "collapsed": false
   }
  },
  {
   "cell_type": "code",
   "execution_count": null,
   "outputs": [],
   "source": [
    "data = pd.DataFrame(columns = [\"time\", \"text\", \"country\"])"
   ],
   "metadata": {
    "collapsed": false
   }
  },
  {
   "cell_type": "code",
   "execution_count": null,
   "outputs": [],
   "source": [
    "auth = tweepy.OAuthHandler(CONSUMER_KEY, CONSUMER_SECRET)\n",
    "auth.set_access_token(ACCESS_TOKEN, ACCESS_SECRET)\n",
    "api = tweepy.API(auth, wait_on_rate_limit = True)"
   ],
   "metadata": {
    "collapsed": false
   }
  },
  {
   "cell_type": "code",
   "execution_count": null,
   "outputs": [],
   "source": [
    "client = tweepy.Client(BEARER_TOKEN)"
   ],
   "metadata": {
    "collapsed": false
   }
  },
  {
   "cell_type": "code",
   "execution_count": null,
   "outputs": [],
   "source": [
    "countries = [\"#argentina\", \"#brazil\", \"#england\", \"#france\", \"#portugal\", \"#spain\"]"
   ],
   "metadata": {
    "collapsed": false
   }
  },
  {
   "cell_type": "markdown",
   "source": [
    "### Please change the date below to no earlier than 7 days from current time"
   ],
   "metadata": {
    "collapsed": false
   }
  },
  {
   "cell_type": "code",
   "execution_count": null,
   "outputs": [],
   "source": [
    "hashtag = \"#spain (#worldcup2022 OR #fifa) lang:en\"\n",
    "curr_time = dt.datetime.strptime(\"2022-12-16 00:00:00 +0000\", \"%Y-%m-%d %H:%M:%S %z\")\n",
    "end_time = dt.datetime.strptime(\"2022-12-21 00:00:00 -0500\", \"%Y-%m-%d %H:%M:%S %z\")\n",
    "time_window = dt.timedelta(hours = 1)\n",
    "max_tweets = 100"
   ],
   "metadata": {
    "collapsed": false
   }
  },
  {
   "cell_type": "code",
   "execution_count": null,
   "outputs": [],
   "source": [
    "while curr_time < end_time:\n",
    "    tweets = client.search_recent_tweets(\n",
    "        query = hashtag, start_time = curr_time, end_time = curr_time + time_window,\n",
    "        tweet_fields = [\"created_at\"], max_results = max_tweets\n",
    "    )\n",
    "\n",
    "    if tweets.data is not None:\n",
    "        for tweet in tweets.data:\n",
    "            data.loc[len(data)] = [tweet.created_at, tweet.text, \"Spain\"]\n",
    "\n",
    "    curr_time += time_window"
   ],
   "metadata": {
    "collapsed": false
   }
  },
  {
   "cell_type": "markdown",
   "source": [
    "# Use `tweepy` ver1.1 to search tweets in recent 30 days\n",
    "Require elevated access"
   ],
   "metadata": {
    "collapsed": false
   }
  },
  {
   "cell_type": "markdown",
   "source": [
    "### Please change the date below to no earlier than 30 days from current time."
   ],
   "metadata": {
    "collapsed": false
   }
  },
  {
   "cell_type": "code",
   "execution_count": null,
   "outputs": [],
   "source": [
    "hashtag = \"#argentina (#worldcup2022 OR #fifa) lang:en\"\n",
    "curr_time = dt.datetime.strptime(\"2022-12-15 20:00:00 +0000\", \"%Y-%m-%d %H:%M:%S %z\")\n",
    "end_time = dt.datetime.strptime(\"2022-12-19 00:00:00 -0500\", \"%Y-%m-%d %H:%M:%S %z\")\n",
    "time_window = dt.timedelta(hours = 6)\n",
    "max_tweets = 100"
   ],
   "metadata": {
    "collapsed": false
   }
  },
  {
   "cell_type": "code",
   "execution_count": null,
   "outputs": [],
   "source": [
    "while curr_time < end_time:\n",
    "    tweet_cursor = tweepy.Cursor(\n",
    "        api.search_30_day, label = \"dev\", query = hashtag,\n",
    "        fromDate = dt.datetime.strftime(curr_time, \"%Y%m%d%H%M\"),\n",
    "        toDate = dt.datetime.strftime(curr_time + time_window, \"%Y%m%d%H%M\"),\n",
    "        maxResults = max_tweets\n",
    "    ).items(max_tweets)\n",
    "\n",
    "    tweet_dict = [status._json for status in tweet_cursor]\n",
    "    for tweet in tweet_dict:\n",
    "        timestamp = dt.datetime.strptime(tweet[\"created_at\"], \"%a %b %d %H:%M:%S %z %Y\")\n",
    "\n",
    "        if \"extended_tweet\" in tweet:\n",
    "            text = tweet[\"extended_tweet\"][\"full_text\"]\n",
    "            data.loc[len(data)] = [timestamp, text, \"Argentina\"]\n",
    "        elif \"retweeted_status\" in tweet and \"extended_tweet\" in tweet[\"retweeted_status\"]:\n",
    "            text = tweet[\"retweeted_status\"][\"extended_tweet\"][\"full_text\"]\n",
    "            data.loc[len(data)] = [timestamp, text, \"Argentina\"]\n",
    "\n",
    "    curr_time += time_window"
   ],
   "metadata": {
    "collapsed": false
   }
  },
  {
   "cell_type": "code",
   "execution_count": null,
   "outputs": [],
   "source": [
    "data"
   ],
   "metadata": {
    "collapsed": false
   }
  },
  {
   "cell_type": "code",
   "execution_count": null,
   "outputs": [],
   "source": [
    "data.to_csv(\"dataset/data_static.csv\")"
   ],
   "metadata": {
    "collapsed": false
   }
  },
  {
   "cell_type": "code",
   "execution_count": null,
   "outputs": [],
   "source": [
    "data = pd.read_csv(\"dataset/data_static.csv\", index_col = 0)"
   ],
   "metadata": {
    "collapsed": false
   }
  },
  {
   "cell_type": "code",
   "execution_count": null,
   "outputs": [],
   "source": [],
   "metadata": {
    "collapsed": false
   }
  },
  {
   "cell_type": "code",
   "execution_count": null,
   "outputs": [],
   "source": [],
   "metadata": {
    "collapsed": false
   }
  },
  {
   "cell_type": "code",
   "execution_count": null,
   "outputs": [],
   "source": [],
   "metadata": {
    "collapsed": false
   }
  },
  {
   "cell_type": "code",
   "execution_count": null,
   "outputs": [],
   "source": [],
   "metadata": {
    "collapsed": false
   }
  }
 ],
 "metadata": {
  "kernelspec": {
   "display_name": "Python 3",
   "language": "python",
   "name": "python3"
  },
  "language_info": {
   "codemirror_mode": {
    "name": "ipython",
    "version": 2
   },
   "file_extension": ".py",
   "mimetype": "text/x-python",
   "name": "python",
   "nbconvert_exporter": "python",
   "pygments_lexer": "ipython2",
   "version": "2.7.6"
  }
 },
 "nbformat": 4,
 "nbformat_minor": 0
}
