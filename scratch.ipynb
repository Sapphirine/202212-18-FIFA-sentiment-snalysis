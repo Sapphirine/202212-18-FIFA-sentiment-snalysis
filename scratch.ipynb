{
 "cells": [
  {
   "cell_type": "code",
   "execution_count": 1,
   "outputs": [],
   "source": [
    "import datetime as dt\n",
    "import json\n",
    "import pandas as pd\n",
    "import tweepy"
   ],
   "metadata": {
    "collapsed": false
   }
  },
  {
   "cell_type": "code",
   "execution_count": null,
   "outputs": [],
   "source": [
    "data = pd.read_csv(\"dataset/data_static.csv\", index_col = 0)"
   ],
   "metadata": {
    "collapsed": false
   }
  },
  {
   "cell_type": "code",
   "execution_count": 39,
   "outputs": [],
   "source": [
    "auth = tweepy.OAuthHandler(CONSUMER_KEY, CONSUMER_SECRET)\n",
    "auth.set_access_token(ACCESS_TOKEN, ACCESS_SECRET)\n",
    "api = tweepy.API(auth, wait_on_rate_limit = True)"
   ],
   "metadata": {
    "collapsed": false
   }
  },
  {
   "cell_type": "code",
   "execution_count": 40,
   "outputs": [],
   "source": [
    "client = tweepy.Client(BEARER_TOKEN)"
   ],
   "metadata": {
    "collapsed": false
   }
  },
  {
   "cell_type": "code",
   "execution_count": null,
   "outputs": [],
   "source": [
    "countries = [\"#argentina\", \"#brazil\", \"#england\", \"#france\", \"#portugal\", \"#spain\"]"
   ],
   "metadata": {
    "collapsed": false
   }
  },
  {
   "cell_type": "code",
   "execution_count": 60,
   "outputs": [],
   "source": [
    "hashtag = \"#spain (#worldcup2022 OR #fifa) lang:en\"\n",
    "curr_time = dt.datetime.strptime(\"2022-12-16 00:00:00 +0000\", \"%Y-%m-%d %H:%M:%S %z\")\n",
    "end_time = dt.datetime.strptime(\"2022-12-21 00:00:00 -0500\", \"%Y-%m-%d %H:%M:%S %z\")\n",
    "time_window = dt.timedelta(hours = 1)\n",
    "max_tweets = 100"
   ],
   "metadata": {
    "collapsed": false
   }
  },
  {
   "cell_type": "code",
   "execution_count": 61,
   "outputs": [],
   "source": [
    "while curr_time < end_time:\n",
    "    tweets = client.search_recent_tweets(\n",
    "        query = hashtag, start_time = curr_time, end_time = curr_time + time_window,\n",
    "        tweet_fields = [\"created_at\"], max_results = max_tweets\n",
    "    )\n",
    "\n",
    "    if tweets.data is not None:\n",
    "        for tweet in tweets.data:\n",
    "            data.loc[len(data)] = [tweet.created_at, tweet.text, \"Spain\"]\n",
    "\n",
    "    curr_time += time_window"
   ],
   "metadata": {
    "collapsed": false
   }
  },
  {
   "cell_type": "code",
   "execution_count": 62,
   "outputs": [
    {
     "data": {
      "text/plain": "                            time  \\\n0      2022-11-21 03:58:55+00:00   \n1      2022-11-21 03:32:04+00:00   \n2      2022-11-21 03:26:22+00:00   \n3      2022-11-21 03:20:14+00:00   \n4      2022-11-21 03:14:19+00:00   \n...                          ...   \n17863  2022-12-20 07:02:04+00:00   \n17864  2022-12-20 08:50:34+00:00   \n17865  2022-12-20 22:36:15+00:00   \n17866  2022-12-20 23:57:51+00:00   \n17867  2022-12-21 01:45:43+00:00   \n\n                                                    text    country  \n0      FIFA World Cup is one of the most-watched spor...  Argentina  \n1      😍 The #WorldCup2022 begins on Sunday.\\n\\n⚽️ Ma...  Argentina  \n2      😍 The #WorldCup2022 begins on Sunday.\\n\\n⚽️ Ma...  Argentina  \n3      😍 The #WorldCup2022 begins on Sunday.\\n\\n⚽️ Ma...  Argentina  \n4      FIFA World Cup is one of the most-watched spor...  Argentina  \n...                                                  ...        ...  \n17863  RT @ZeeverseGame: #Spain 🇪🇸 VS #Germany 🇩🇪\\n\\n...      Spain  \n17864  @Fanatikkind What about players ranking\\n#Fana...      Spain  \n17865  RT @Jameal18: Spain kicking penalties vs Moroc...      Spain  \n17866  Countries with the most FIFA World Cup titles ...      Spain  \n17867  #FIFA rankings after #FIFAWorldCupQatar2022 \\n...      Spain  \n\n[17868 rows x 3 columns]",
      "text/html": "<div>\n<style scoped>\n    .dataframe tbody tr th:only-of-type {\n        vertical-align: middle;\n    }\n\n    .dataframe tbody tr th {\n        vertical-align: top;\n    }\n\n    .dataframe thead th {\n        text-align: right;\n    }\n</style>\n<table border=\"1\" class=\"dataframe\">\n  <thead>\n    <tr style=\"text-align: right;\">\n      <th></th>\n      <th>time</th>\n      <th>text</th>\n      <th>country</th>\n    </tr>\n  </thead>\n  <tbody>\n    <tr>\n      <th>0</th>\n      <td>2022-11-21 03:58:55+00:00</td>\n      <td>FIFA World Cup is one of the most-watched spor...</td>\n      <td>Argentina</td>\n    </tr>\n    <tr>\n      <th>1</th>\n      <td>2022-11-21 03:32:04+00:00</td>\n      <td>😍 The #WorldCup2022 begins on Sunday.\\n\\n⚽️ Ma...</td>\n      <td>Argentina</td>\n    </tr>\n    <tr>\n      <th>2</th>\n      <td>2022-11-21 03:26:22+00:00</td>\n      <td>😍 The #WorldCup2022 begins on Sunday.\\n\\n⚽️ Ma...</td>\n      <td>Argentina</td>\n    </tr>\n    <tr>\n      <th>3</th>\n      <td>2022-11-21 03:20:14+00:00</td>\n      <td>😍 The #WorldCup2022 begins on Sunday.\\n\\n⚽️ Ma...</td>\n      <td>Argentina</td>\n    </tr>\n    <tr>\n      <th>4</th>\n      <td>2022-11-21 03:14:19+00:00</td>\n      <td>FIFA World Cup is one of the most-watched spor...</td>\n      <td>Argentina</td>\n    </tr>\n    <tr>\n      <th>...</th>\n      <td>...</td>\n      <td>...</td>\n      <td>...</td>\n    </tr>\n    <tr>\n      <th>17863</th>\n      <td>2022-12-20 07:02:04+00:00</td>\n      <td>RT @ZeeverseGame: #Spain 🇪🇸 VS #Germany 🇩🇪\\n\\n...</td>\n      <td>Spain</td>\n    </tr>\n    <tr>\n      <th>17864</th>\n      <td>2022-12-20 08:50:34+00:00</td>\n      <td>@Fanatikkind What about players ranking\\n#Fana...</td>\n      <td>Spain</td>\n    </tr>\n    <tr>\n      <th>17865</th>\n      <td>2022-12-20 22:36:15+00:00</td>\n      <td>RT @Jameal18: Spain kicking penalties vs Moroc...</td>\n      <td>Spain</td>\n    </tr>\n    <tr>\n      <th>17866</th>\n      <td>2022-12-20 23:57:51+00:00</td>\n      <td>Countries with the most FIFA World Cup titles ...</td>\n      <td>Spain</td>\n    </tr>\n    <tr>\n      <th>17867</th>\n      <td>2022-12-21 01:45:43+00:00</td>\n      <td>#FIFA rankings after #FIFAWorldCupQatar2022 \\n...</td>\n      <td>Spain</td>\n    </tr>\n  </tbody>\n</table>\n<p>17868 rows × 3 columns</p>\n</div>"
     },
     "execution_count": 62,
     "metadata": {},
     "output_type": "execute_result"
    }
   ],
   "source": [
    "data"
   ],
   "metadata": {
    "collapsed": false
   }
  },
  {
   "cell_type": "code",
   "execution_count": null,
   "outputs": [],
   "source": [],
   "metadata": {
    "collapsed": false
   }
  },
  {
   "cell_type": "code",
   "execution_count": 95,
   "outputs": [],
   "source": [
    "data = pd.DataFrame(columns = [\"time\", \"text\", \"country\"])"
   ],
   "metadata": {
    "collapsed": false
   }
  },
  {
   "cell_type": "code",
   "execution_count": 6,
   "outputs": [],
   "source": [
    "hashtag = \"#argentina (#worldcup2022 OR #fifa) lang:en\"\n",
    "curr_time = dt.datetime.strptime(\"2022-12-15 20:00:00 +0000\", \"%Y-%m-%d %H:%M:%S %z\")\n",
    "end_time = dt.datetime.strptime(\"2022-12-19 00:00:00 -0500\", \"%Y-%m-%d %H:%M:%S %z\")\n",
    "time_window = dt.timedelta(hours = 6)\n",
    "max_tweets = 100"
   ],
   "metadata": {
    "collapsed": false
   }
  },
  {
   "cell_type": "code",
   "execution_count": 50,
   "outputs": [
    {
     "ename": "TooManyRequests",
     "evalue": "429 Too Many Requests\nRequest exceeds account’s current package request limits. Please upgrade your package and retry or contact Twitter about enterprise access.",
     "output_type": "error",
     "traceback": [
      "\u001B[1;31m---------------------------------------------------------------------------\u001B[0m",
      "\u001B[1;31mTooManyRequests\u001B[0m                           Traceback (most recent call last)",
      "Cell \u001B[1;32mIn [50], line 9\u001B[0m\n\u001B[0;32m      1\u001B[0m \u001B[38;5;28;01mwhile\u001B[39;00m curr_time \u001B[38;5;241m<\u001B[39m end_time:\n\u001B[0;32m      2\u001B[0m     tweet_cursor \u001B[38;5;241m=\u001B[39m tweepy\u001B[38;5;241m.\u001B[39mCursor(\n\u001B[0;32m      3\u001B[0m         api\u001B[38;5;241m.\u001B[39msearch_30_day, label \u001B[38;5;241m=\u001B[39m \u001B[38;5;124m\"\u001B[39m\u001B[38;5;124mdev\u001B[39m\u001B[38;5;124m\"\u001B[39m, query \u001B[38;5;241m=\u001B[39m hashtag,\n\u001B[0;32m      4\u001B[0m         fromDate \u001B[38;5;241m=\u001B[39m dt\u001B[38;5;241m.\u001B[39mdatetime\u001B[38;5;241m.\u001B[39mstrftime(curr_time, \u001B[38;5;124m\"\u001B[39m\u001B[38;5;124m%\u001B[39m\u001B[38;5;124mY\u001B[39m\u001B[38;5;124m%\u001B[39m\u001B[38;5;124mm\u001B[39m\u001B[38;5;132;01m%d\u001B[39;00m\u001B[38;5;124m%\u001B[39m\u001B[38;5;124mH\u001B[39m\u001B[38;5;124m%\u001B[39m\u001B[38;5;124mM\u001B[39m\u001B[38;5;124m\"\u001B[39m),\n\u001B[0;32m      5\u001B[0m         toDate \u001B[38;5;241m=\u001B[39m dt\u001B[38;5;241m.\u001B[39mdatetime\u001B[38;5;241m.\u001B[39mstrftime(curr_time \u001B[38;5;241m+\u001B[39m time_window, \u001B[38;5;124m\"\u001B[39m\u001B[38;5;124m%\u001B[39m\u001B[38;5;124mY\u001B[39m\u001B[38;5;124m%\u001B[39m\u001B[38;5;124mm\u001B[39m\u001B[38;5;132;01m%d\u001B[39;00m\u001B[38;5;124m%\u001B[39m\u001B[38;5;124mH\u001B[39m\u001B[38;5;124m%\u001B[39m\u001B[38;5;124mM\u001B[39m\u001B[38;5;124m\"\u001B[39m),\n\u001B[0;32m      6\u001B[0m         maxResults \u001B[38;5;241m=\u001B[39m max_tweets\n\u001B[0;32m      7\u001B[0m     )\u001B[38;5;241m.\u001B[39mitems(max_tweets)\n\u001B[1;32m----> 9\u001B[0m     tweet_dict \u001B[38;5;241m=\u001B[39m [status\u001B[38;5;241m.\u001B[39m_json \u001B[38;5;28;01mfor\u001B[39;00m status \u001B[38;5;129;01min\u001B[39;00m tweet_cursor]\n\u001B[0;32m     10\u001B[0m     \u001B[38;5;28;01mfor\u001B[39;00m tweet \u001B[38;5;129;01min\u001B[39;00m tweet_dict:\n\u001B[0;32m     11\u001B[0m         timestamp \u001B[38;5;241m=\u001B[39m dt\u001B[38;5;241m.\u001B[39mdatetime\u001B[38;5;241m.\u001B[39mstrptime(tweet[\u001B[38;5;124m\"\u001B[39m\u001B[38;5;124mcreated_at\u001B[39m\u001B[38;5;124m\"\u001B[39m], \u001B[38;5;124m\"\u001B[39m\u001B[38;5;132;01m%a\u001B[39;00m\u001B[38;5;124m \u001B[39m\u001B[38;5;124m%\u001B[39m\u001B[38;5;124mb \u001B[39m\u001B[38;5;132;01m%d\u001B[39;00m\u001B[38;5;124m \u001B[39m\u001B[38;5;124m%\u001B[39m\u001B[38;5;124mH:\u001B[39m\u001B[38;5;124m%\u001B[39m\u001B[38;5;124mM:\u001B[39m\u001B[38;5;124m%\u001B[39m\u001B[38;5;124mS \u001B[39m\u001B[38;5;124m%\u001B[39m\u001B[38;5;124mz \u001B[39m\u001B[38;5;124m%\u001B[39m\u001B[38;5;124mY\u001B[39m\u001B[38;5;124m\"\u001B[39m)\n",
      "Cell \u001B[1;32mIn [50], line 9\u001B[0m, in \u001B[0;36m<listcomp>\u001B[1;34m(.0)\u001B[0m\n\u001B[0;32m      1\u001B[0m \u001B[38;5;28;01mwhile\u001B[39;00m curr_time \u001B[38;5;241m<\u001B[39m end_time:\n\u001B[0;32m      2\u001B[0m     tweet_cursor \u001B[38;5;241m=\u001B[39m tweepy\u001B[38;5;241m.\u001B[39mCursor(\n\u001B[0;32m      3\u001B[0m         api\u001B[38;5;241m.\u001B[39msearch_30_day, label \u001B[38;5;241m=\u001B[39m \u001B[38;5;124m\"\u001B[39m\u001B[38;5;124mdev\u001B[39m\u001B[38;5;124m\"\u001B[39m, query \u001B[38;5;241m=\u001B[39m hashtag,\n\u001B[0;32m      4\u001B[0m         fromDate \u001B[38;5;241m=\u001B[39m dt\u001B[38;5;241m.\u001B[39mdatetime\u001B[38;5;241m.\u001B[39mstrftime(curr_time, \u001B[38;5;124m\"\u001B[39m\u001B[38;5;124m%\u001B[39m\u001B[38;5;124mY\u001B[39m\u001B[38;5;124m%\u001B[39m\u001B[38;5;124mm\u001B[39m\u001B[38;5;132;01m%d\u001B[39;00m\u001B[38;5;124m%\u001B[39m\u001B[38;5;124mH\u001B[39m\u001B[38;5;124m%\u001B[39m\u001B[38;5;124mM\u001B[39m\u001B[38;5;124m\"\u001B[39m),\n\u001B[0;32m      5\u001B[0m         toDate \u001B[38;5;241m=\u001B[39m dt\u001B[38;5;241m.\u001B[39mdatetime\u001B[38;5;241m.\u001B[39mstrftime(curr_time \u001B[38;5;241m+\u001B[39m time_window, \u001B[38;5;124m\"\u001B[39m\u001B[38;5;124m%\u001B[39m\u001B[38;5;124mY\u001B[39m\u001B[38;5;124m%\u001B[39m\u001B[38;5;124mm\u001B[39m\u001B[38;5;132;01m%d\u001B[39;00m\u001B[38;5;124m%\u001B[39m\u001B[38;5;124mH\u001B[39m\u001B[38;5;124m%\u001B[39m\u001B[38;5;124mM\u001B[39m\u001B[38;5;124m\"\u001B[39m),\n\u001B[0;32m      6\u001B[0m         maxResults \u001B[38;5;241m=\u001B[39m max_tweets\n\u001B[0;32m      7\u001B[0m     )\u001B[38;5;241m.\u001B[39mitems(max_tweets)\n\u001B[1;32m----> 9\u001B[0m     tweet_dict \u001B[38;5;241m=\u001B[39m [status\u001B[38;5;241m.\u001B[39m_json \u001B[38;5;28;01mfor\u001B[39;00m status \u001B[38;5;129;01min\u001B[39;00m tweet_cursor]\n\u001B[0;32m     10\u001B[0m     \u001B[38;5;28;01mfor\u001B[39;00m tweet \u001B[38;5;129;01min\u001B[39;00m tweet_dict:\n\u001B[0;32m     11\u001B[0m         timestamp \u001B[38;5;241m=\u001B[39m dt\u001B[38;5;241m.\u001B[39mdatetime\u001B[38;5;241m.\u001B[39mstrptime(tweet[\u001B[38;5;124m\"\u001B[39m\u001B[38;5;124mcreated_at\u001B[39m\u001B[38;5;124m\"\u001B[39m], \u001B[38;5;124m\"\u001B[39m\u001B[38;5;132;01m%a\u001B[39;00m\u001B[38;5;124m \u001B[39m\u001B[38;5;124m%\u001B[39m\u001B[38;5;124mb \u001B[39m\u001B[38;5;132;01m%d\u001B[39;00m\u001B[38;5;124m \u001B[39m\u001B[38;5;124m%\u001B[39m\u001B[38;5;124mH:\u001B[39m\u001B[38;5;124m%\u001B[39m\u001B[38;5;124mM:\u001B[39m\u001B[38;5;124m%\u001B[39m\u001B[38;5;124mS \u001B[39m\u001B[38;5;124m%\u001B[39m\u001B[38;5;124mz \u001B[39m\u001B[38;5;124m%\u001B[39m\u001B[38;5;124mY\u001B[39m\u001B[38;5;124m\"\u001B[39m)\n",
      "File \u001B[1;32m~\\Anaconda3\\lib\\site-packages\\tweepy\\cursor.py:86\u001B[0m, in \u001B[0;36mBaseIterator.__next__\u001B[1;34m(self)\u001B[0m\n\u001B[0;32m     85\u001B[0m \u001B[38;5;28;01mdef\u001B[39;00m \u001B[38;5;21m__next__\u001B[39m(\u001B[38;5;28mself\u001B[39m):\n\u001B[1;32m---> 86\u001B[0m     \u001B[38;5;28;01mreturn\u001B[39;00m \u001B[38;5;28;43mself\u001B[39;49m\u001B[38;5;241;43m.\u001B[39;49m\u001B[43mnext\u001B[49m\u001B[43m(\u001B[49m\u001B[43m)\u001B[49m\n",
      "File \u001B[1;32m~\\Anaconda3\\lib\\site-packages\\tweepy\\cursor.py:286\u001B[0m, in \u001B[0;36mItemIterator.next\u001B[1;34m(self)\u001B[0m\n\u001B[0;32m    283\u001B[0m     \u001B[38;5;28;01mraise\u001B[39;00m \u001B[38;5;167;01mStopIteration\u001B[39;00m\n\u001B[0;32m    284\u001B[0m \u001B[38;5;28;01mif\u001B[39;00m \u001B[38;5;28mself\u001B[39m\u001B[38;5;241m.\u001B[39mcurrent_page \u001B[38;5;129;01mis\u001B[39;00m \u001B[38;5;28;01mNone\u001B[39;00m \u001B[38;5;129;01mor\u001B[39;00m \u001B[38;5;28mself\u001B[39m\u001B[38;5;241m.\u001B[39mpage_index \u001B[38;5;241m==\u001B[39m \u001B[38;5;28mlen\u001B[39m(\u001B[38;5;28mself\u001B[39m\u001B[38;5;241m.\u001B[39mcurrent_page) \u001B[38;5;241m-\u001B[39m \u001B[38;5;241m1\u001B[39m:\n\u001B[0;32m    285\u001B[0m     \u001B[38;5;66;03m# Reached end of current page, get the next page...\u001B[39;00m\n\u001B[1;32m--> 286\u001B[0m     \u001B[38;5;28mself\u001B[39m\u001B[38;5;241m.\u001B[39mcurrent_page \u001B[38;5;241m=\u001B[39m \u001B[38;5;28;43mnext\u001B[39;49m\u001B[43m(\u001B[49m\u001B[38;5;28;43mself\u001B[39;49m\u001B[38;5;241;43m.\u001B[39;49m\u001B[43mpage_iterator\u001B[49m\u001B[43m)\u001B[49m\n\u001B[0;32m    287\u001B[0m     \u001B[38;5;28;01mwhile\u001B[39;00m \u001B[38;5;28mlen\u001B[39m(\u001B[38;5;28mself\u001B[39m\u001B[38;5;241m.\u001B[39mcurrent_page) \u001B[38;5;241m==\u001B[39m \u001B[38;5;241m0\u001B[39m:\n\u001B[0;32m    288\u001B[0m         \u001B[38;5;28mself\u001B[39m\u001B[38;5;241m.\u001B[39mcurrent_page \u001B[38;5;241m=\u001B[39m \u001B[38;5;28mnext\u001B[39m(\u001B[38;5;28mself\u001B[39m\u001B[38;5;241m.\u001B[39mpage_iterator)\n",
      "File \u001B[1;32m~\\Anaconda3\\lib\\site-packages\\tweepy\\cursor.py:86\u001B[0m, in \u001B[0;36mBaseIterator.__next__\u001B[1;34m(self)\u001B[0m\n\u001B[0;32m     85\u001B[0m \u001B[38;5;28;01mdef\u001B[39;00m \u001B[38;5;21m__next__\u001B[39m(\u001B[38;5;28mself\u001B[39m):\n\u001B[1;32m---> 86\u001B[0m     \u001B[38;5;28;01mreturn\u001B[39;00m \u001B[38;5;28;43mself\u001B[39;49m\u001B[38;5;241;43m.\u001B[39;49m\u001B[43mnext\u001B[49m\u001B[43m(\u001B[49m\u001B[43m)\u001B[49m\n",
      "File \u001B[1;32m~\\Anaconda3\\lib\\site-packages\\tweepy\\cursor.py:260\u001B[0m, in \u001B[0;36mNextIterator.next\u001B[1;34m(self)\u001B[0m\n\u001B[0;32m    258\u001B[0m \u001B[38;5;28;01mif\u001B[39;00m \u001B[38;5;28mself\u001B[39m\u001B[38;5;241m.\u001B[39mnext_token \u001B[38;5;241m==\u001B[39m \u001B[38;5;241m-\u001B[39m\u001B[38;5;241m1\u001B[39m \u001B[38;5;129;01mor\u001B[39;00m \u001B[38;5;28mself\u001B[39m\u001B[38;5;241m.\u001B[39mpage_count \u001B[38;5;241m>\u001B[39m\u001B[38;5;241m=\u001B[39m \u001B[38;5;28mself\u001B[39m\u001B[38;5;241m.\u001B[39mlimit:\n\u001B[0;32m    259\u001B[0m     \u001B[38;5;28;01mraise\u001B[39;00m \u001B[38;5;167;01mStopIteration\u001B[39;00m\n\u001B[1;32m--> 260\u001B[0m data \u001B[38;5;241m=\u001B[39m \u001B[38;5;28mself\u001B[39m\u001B[38;5;241m.\u001B[39mmethod(\u001B[38;5;28mnext\u001B[39m\u001B[38;5;241m=\u001B[39m\u001B[38;5;28mself\u001B[39m\u001B[38;5;241m.\u001B[39mnext_token, return_cursors\u001B[38;5;241m=\u001B[39m\u001B[38;5;28;01mTrue\u001B[39;00m, \u001B[38;5;241m*\u001B[39m\u001B[38;5;28mself\u001B[39m\u001B[38;5;241m.\u001B[39margs, \u001B[38;5;241m*\u001B[39m\u001B[38;5;241m*\u001B[39m\u001B[38;5;28mself\u001B[39m\u001B[38;5;241m.\u001B[39mkwargs)\n\u001B[0;32m    261\u001B[0m \u001B[38;5;28mself\u001B[39m\u001B[38;5;241m.\u001B[39mpage_count \u001B[38;5;241m+\u001B[39m\u001B[38;5;241m=\u001B[39m \u001B[38;5;241m1\u001B[39m\n\u001B[0;32m    262\u001B[0m \u001B[38;5;28;01mif\u001B[39;00m \u001B[38;5;28misinstance\u001B[39m(data, \u001B[38;5;28mtuple\u001B[39m):\n",
      "File \u001B[1;32m~\\Anaconda3\\lib\\site-packages\\tweepy\\api.py:33\u001B[0m, in \u001B[0;36mpagination.<locals>.decorator.<locals>.wrapper\u001B[1;34m(*args, **kwargs)\u001B[0m\n\u001B[0;32m     31\u001B[0m \u001B[38;5;129m@functools\u001B[39m\u001B[38;5;241m.\u001B[39mwraps(method)\n\u001B[0;32m     32\u001B[0m \u001B[38;5;28;01mdef\u001B[39;00m \u001B[38;5;21mwrapper\u001B[39m(\u001B[38;5;241m*\u001B[39margs, \u001B[38;5;241m*\u001B[39m\u001B[38;5;241m*\u001B[39mkwargs):\n\u001B[1;32m---> 33\u001B[0m     \u001B[38;5;28;01mreturn\u001B[39;00m method(\u001B[38;5;241m*\u001B[39margs, \u001B[38;5;241m*\u001B[39m\u001B[38;5;241m*\u001B[39mkwargs)\n",
      "File \u001B[1;32m~\\Anaconda3\\lib\\site-packages\\tweepy\\api.py:46\u001B[0m, in \u001B[0;36mpayload.<locals>.decorator.<locals>.wrapper\u001B[1;34m(*args, **kwargs)\u001B[0m\n\u001B[0;32m     44\u001B[0m kwargs[\u001B[38;5;124m'\u001B[39m\u001B[38;5;124mpayload_list\u001B[39m\u001B[38;5;124m'\u001B[39m] \u001B[38;5;241m=\u001B[39m payload_list\n\u001B[0;32m     45\u001B[0m kwargs[\u001B[38;5;124m'\u001B[39m\u001B[38;5;124mpayload_type\u001B[39m\u001B[38;5;124m'\u001B[39m] \u001B[38;5;241m=\u001B[39m payload_type\n\u001B[1;32m---> 46\u001B[0m \u001B[38;5;28;01mreturn\u001B[39;00m method(\u001B[38;5;241m*\u001B[39margs, \u001B[38;5;241m*\u001B[39m\u001B[38;5;241m*\u001B[39mkwargs)\n",
      "File \u001B[1;32m~\\Anaconda3\\lib\\site-packages\\tweepy\\api.py:369\u001B[0m, in \u001B[0;36mAPI.search_30_day\u001B[1;34m(self, label, query, **kwargs)\u001B[0m\n\u001B[0;32m    292\u001B[0m \u001B[38;5;129m@pagination\u001B[39m(mode\u001B[38;5;241m=\u001B[39m\u001B[38;5;124m'\u001B[39m\u001B[38;5;124mnext\u001B[39m\u001B[38;5;124m'\u001B[39m)\n\u001B[0;32m    293\u001B[0m \u001B[38;5;129m@payload\u001B[39m(\u001B[38;5;124m'\u001B[39m\u001B[38;5;124mstatus\u001B[39m\u001B[38;5;124m'\u001B[39m, \u001B[38;5;28mlist\u001B[39m\u001B[38;5;241m=\u001B[39m\u001B[38;5;28;01mTrue\u001B[39;00m)\n\u001B[0;32m    294\u001B[0m \u001B[38;5;28;01mdef\u001B[39;00m \u001B[38;5;21msearch_30_day\u001B[39m(\u001B[38;5;28mself\u001B[39m, label, query, \u001B[38;5;241m*\u001B[39m\u001B[38;5;241m*\u001B[39mkwargs):\n\u001B[0;32m    295\u001B[0m     \u001B[38;5;124;03m\"\"\"search_30_day(label, query, *, tag, fromDate, toDate, maxResults, \\\u001B[39;00m\n\u001B[0;32m    296\u001B[0m \u001B[38;5;124;03m                     next)\u001B[39;00m\n\u001B[0;32m    297\u001B[0m \n\u001B[1;32m   (...)\u001B[0m\n\u001B[0;32m    367\u001B[0m \u001B[38;5;124;03m    https://developer.twitter.com/en/docs/twitter-api/premium/search-api/api-reference/premium-search\u001B[39;00m\n\u001B[0;32m    368\u001B[0m \u001B[38;5;124;03m    \"\"\"\u001B[39;00m\n\u001B[1;32m--> 369\u001B[0m     \u001B[38;5;28;01mreturn\u001B[39;00m \u001B[38;5;28mself\u001B[39m\u001B[38;5;241m.\u001B[39mrequest(\n\u001B[0;32m    370\u001B[0m         \u001B[38;5;124m'\u001B[39m\u001B[38;5;124mGET\u001B[39m\u001B[38;5;124m'\u001B[39m, \u001B[38;5;124mf\u001B[39m\u001B[38;5;124m'\u001B[39m\u001B[38;5;124mtweets/search/30day/\u001B[39m\u001B[38;5;132;01m{\u001B[39;00mlabel\u001B[38;5;132;01m}\u001B[39;00m\u001B[38;5;124m'\u001B[39m, endpoint_parameters\u001B[38;5;241m=\u001B[39m(\n\u001B[0;32m    371\u001B[0m             \u001B[38;5;124m'\u001B[39m\u001B[38;5;124mquery\u001B[39m\u001B[38;5;124m'\u001B[39m, \u001B[38;5;124m'\u001B[39m\u001B[38;5;124mtag\u001B[39m\u001B[38;5;124m'\u001B[39m, \u001B[38;5;124m'\u001B[39m\u001B[38;5;124mfromDate\u001B[39m\u001B[38;5;124m'\u001B[39m, \u001B[38;5;124m'\u001B[39m\u001B[38;5;124mtoDate\u001B[39m\u001B[38;5;124m'\u001B[39m, \u001B[38;5;124m'\u001B[39m\u001B[38;5;124mmaxResults\u001B[39m\u001B[38;5;124m'\u001B[39m, \u001B[38;5;124m'\u001B[39m\u001B[38;5;124mnext\u001B[39m\u001B[38;5;124m'\u001B[39m\n\u001B[0;32m    372\u001B[0m         ), query\u001B[38;5;241m=\u001B[39mquery, \u001B[38;5;241m*\u001B[39m\u001B[38;5;241m*\u001B[39mkwargs\n\u001B[0;32m    373\u001B[0m     )\n",
      "File \u001B[1;32m~\\Anaconda3\\lib\\site-packages\\tweepy\\api.py:269\u001B[0m, in \u001B[0;36mAPI.request\u001B[1;34m(self, method, endpoint, endpoint_parameters, params, headers, json_payload, parser, payload_list, payload_type, post_data, files, require_auth, return_cursors, upload_api, use_cache, **kwargs)\u001B[0m\n\u001B[0;32m    267\u001B[0m     \u001B[38;5;28;01mraise\u001B[39;00m NotFound(resp)\n\u001B[0;32m    268\u001B[0m \u001B[38;5;28;01mif\u001B[39;00m resp\u001B[38;5;241m.\u001B[39mstatus_code \u001B[38;5;241m==\u001B[39m \u001B[38;5;241m429\u001B[39m:\n\u001B[1;32m--> 269\u001B[0m     \u001B[38;5;28;01mraise\u001B[39;00m TooManyRequests(resp)\n\u001B[0;32m    270\u001B[0m \u001B[38;5;28;01mif\u001B[39;00m resp\u001B[38;5;241m.\u001B[39mstatus_code \u001B[38;5;241m>\u001B[39m\u001B[38;5;241m=\u001B[39m \u001B[38;5;241m500\u001B[39m:\n\u001B[0;32m    271\u001B[0m     \u001B[38;5;28;01mraise\u001B[39;00m TwitterServerError(resp)\n",
      "\u001B[1;31mTooManyRequests\u001B[0m: 429 Too Many Requests\nRequest exceeds account’s current package request limits. Please upgrade your package and retry or contact Twitter about enterprise access."
     ]
    }
   ],
   "source": [
    "while curr_time < end_time:\n",
    "    tweet_cursor = tweepy.Cursor(\n",
    "        api.search_30_day, label = \"dev\", query = hashtag,\n",
    "        fromDate = dt.datetime.strftime(curr_time, \"%Y%m%d%H%M\"),\n",
    "        toDate = dt.datetime.strftime(curr_time + time_window, \"%Y%m%d%H%M\"),\n",
    "        maxResults = max_tweets\n",
    "    ).items(max_tweets)\n",
    "\n",
    "    tweet_dict = [status._json for status in tweet_cursor]\n",
    "    for tweet in tweet_dict:\n",
    "        timestamp = dt.datetime.strptime(tweet[\"created_at\"], \"%a %b %d %H:%M:%S %z %Y\")\n",
    "\n",
    "        if \"extended_tweet\" in tweet:\n",
    "            text = tweet[\"extended_tweet\"][\"full_text\"]\n",
    "            data.loc[len(data)] = [timestamp, text, \"Argentina\"]\n",
    "        elif \"retweeted_status\" in tweet and \"extended_tweet\" in tweet[\"retweeted_status\"]:\n",
    "            text = tweet[\"retweeted_status\"][\"extended_tweet\"][\"full_text\"]\n",
    "            data.loc[len(data)] = [timestamp, text, \"Argentina\"]\n",
    "\n",
    "    curr_time += time_window"
   ],
   "metadata": {
    "collapsed": false
   }
  },
  {
   "cell_type": "code",
   "execution_count": 9,
   "outputs": [
    {
     "data": {
      "text/plain": "                           time  \\\n0     2022-11-21 03:58:55+00:00   \n1     2022-11-21 03:32:04+00:00   \n2     2022-11-21 03:26:22+00:00   \n3     2022-11-21 03:20:14+00:00   \n4     2022-11-21 03:14:19+00:00   \n...                         ...   \n1024  2022-12-15 19:57:40+00:00   \n1025  2022-12-15 19:52:16+00:00   \n1026  2022-12-15 19:50:00+00:00   \n1027  2022-12-15 19:48:35+00:00   \n1028  2022-12-15 19:41:06+00:00   \n\n                                                   text    country  \n0     FIFA World Cup is one of the most-watched spor...  Argentina  \n1     😍 The #WorldCup2022 begins on Sunday.\\n\\n⚽️ Ma...  Argentina  \n2     😍 The #WorldCup2022 begins on Sunday.\\n\\n⚽️ Ma...  Argentina  \n3     😍 The #WorldCup2022 begins on Sunday.\\n\\n⚽️ Ma...  Argentina  \n4     FIFA World Cup is one of the most-watched spor...  Argentina  \n...                                                 ...        ...  \n1024  How to win ⤵️\\n➡️ Follow our account @bitgetgl...  Argentina  \n1025  How to win ⤵️\\n➡️ Follow our account @bitgetgl...  Argentina  \n1026  @ViaWallet Always be confused.  I rely on luck...  Argentina  \n1027  #Spooort1 🎙I recommend #France to beat #Argent...  Argentina  \n1028  your sharia get in your ass\\n\\n#IranRevolution...  Argentina  \n\n[1029 rows x 3 columns]",
      "text/html": "<div>\n<style scoped>\n    .dataframe tbody tr th:only-of-type {\n        vertical-align: middle;\n    }\n\n    .dataframe tbody tr th {\n        vertical-align: top;\n    }\n\n    .dataframe thead th {\n        text-align: right;\n    }\n</style>\n<table border=\"1\" class=\"dataframe\">\n  <thead>\n    <tr style=\"text-align: right;\">\n      <th></th>\n      <th>time</th>\n      <th>text</th>\n      <th>country</th>\n    </tr>\n  </thead>\n  <tbody>\n    <tr>\n      <th>0</th>\n      <td>2022-11-21 03:58:55+00:00</td>\n      <td>FIFA World Cup is one of the most-watched spor...</td>\n      <td>Argentina</td>\n    </tr>\n    <tr>\n      <th>1</th>\n      <td>2022-11-21 03:32:04+00:00</td>\n      <td>😍 The #WorldCup2022 begins on Sunday.\\n\\n⚽️ Ma...</td>\n      <td>Argentina</td>\n    </tr>\n    <tr>\n      <th>2</th>\n      <td>2022-11-21 03:26:22+00:00</td>\n      <td>😍 The #WorldCup2022 begins on Sunday.\\n\\n⚽️ Ma...</td>\n      <td>Argentina</td>\n    </tr>\n    <tr>\n      <th>3</th>\n      <td>2022-11-21 03:20:14+00:00</td>\n      <td>😍 The #WorldCup2022 begins on Sunday.\\n\\n⚽️ Ma...</td>\n      <td>Argentina</td>\n    </tr>\n    <tr>\n      <th>4</th>\n      <td>2022-11-21 03:14:19+00:00</td>\n      <td>FIFA World Cup is one of the most-watched spor...</td>\n      <td>Argentina</td>\n    </tr>\n    <tr>\n      <th>...</th>\n      <td>...</td>\n      <td>...</td>\n      <td>...</td>\n    </tr>\n    <tr>\n      <th>1024</th>\n      <td>2022-12-15 19:57:40+00:00</td>\n      <td>How to win ⤵️\\n➡️ Follow our account @bitgetgl...</td>\n      <td>Argentina</td>\n    </tr>\n    <tr>\n      <th>1025</th>\n      <td>2022-12-15 19:52:16+00:00</td>\n      <td>How to win ⤵️\\n➡️ Follow our account @bitgetgl...</td>\n      <td>Argentina</td>\n    </tr>\n    <tr>\n      <th>1026</th>\n      <td>2022-12-15 19:50:00+00:00</td>\n      <td>@ViaWallet Always be confused.  I rely on luck...</td>\n      <td>Argentina</td>\n    </tr>\n    <tr>\n      <th>1027</th>\n      <td>2022-12-15 19:48:35+00:00</td>\n      <td>#Spooort1 🎙I recommend #France to beat #Argent...</td>\n      <td>Argentina</td>\n    </tr>\n    <tr>\n      <th>1028</th>\n      <td>2022-12-15 19:41:06+00:00</td>\n      <td>your sharia get in your ass\\n\\n#IranRevolution...</td>\n      <td>Argentina</td>\n    </tr>\n  </tbody>\n</table>\n<p>1029 rows × 3 columns</p>\n</div>"
     },
     "execution_count": 9,
     "metadata": {},
     "output_type": "execute_result"
    }
   ],
   "source": [
    "data"
   ],
   "metadata": {
    "collapsed": false
   }
  },
  {
   "cell_type": "code",
   "execution_count": 74,
   "outputs": [],
   "source": [
    "data.to_csv(\"dataset/data_static.csv\")"
   ],
   "metadata": {
    "collapsed": false
   }
  },
  {
   "cell_type": "code",
   "execution_count": 64,
   "outputs": [
    {
     "data": {
      "text/plain": "                            time  \\\n0      2022-11-21 03:58:55+00:00   \n1      2022-11-21 03:32:04+00:00   \n2      2022-11-21 03:26:22+00:00   \n3      2022-11-21 03:20:14+00:00   \n4      2022-11-21 03:14:19+00:00   \n...                          ...   \n17863  2022-12-20 07:02:04+00:00   \n17864  2022-12-20 08:50:34+00:00   \n17865  2022-12-20 22:36:15+00:00   \n17866  2022-12-20 23:57:51+00:00   \n17867  2022-12-21 01:45:43+00:00   \n\n                                                    text    country  \n0      FIFA World Cup is one of the most-watched spor...  Argentina  \n1      😍 The #WorldCup2022 begins on Sunday.\\n\\n⚽️ Ma...  Argentina  \n2      😍 The #WorldCup2022 begins on Sunday.\\n\\n⚽️ Ma...  Argentina  \n3      😍 The #WorldCup2022 begins on Sunday.\\n\\n⚽️ Ma...  Argentina  \n4      FIFA World Cup is one of the most-watched spor...  Argentina  \n...                                                  ...        ...  \n17863  RT @ZeeverseGame: #Spain 🇪🇸 VS #Germany 🇩🇪\\n\\n...      Spain  \n17864  @Fanatikkind What about players ranking\\n#Fana...      Spain  \n17865  RT @Jameal18: Spain kicking penalties vs Moroc...      Spain  \n17866  Countries with the most FIFA World Cup titles ...      Spain  \n17867  #FIFA rankings after #FIFAWorldCupQatar2022 \\n...      Spain  \n\n[17868 rows x 3 columns]",
      "text/html": "<div>\n<style scoped>\n    .dataframe tbody tr th:only-of-type {\n        vertical-align: middle;\n    }\n\n    .dataframe tbody tr th {\n        vertical-align: top;\n    }\n\n    .dataframe thead th {\n        text-align: right;\n    }\n</style>\n<table border=\"1\" class=\"dataframe\">\n  <thead>\n    <tr style=\"text-align: right;\">\n      <th></th>\n      <th>time</th>\n      <th>text</th>\n      <th>country</th>\n    </tr>\n  </thead>\n  <tbody>\n    <tr>\n      <th>0</th>\n      <td>2022-11-21 03:58:55+00:00</td>\n      <td>FIFA World Cup is one of the most-watched spor...</td>\n      <td>Argentina</td>\n    </tr>\n    <tr>\n      <th>1</th>\n      <td>2022-11-21 03:32:04+00:00</td>\n      <td>😍 The #WorldCup2022 begins on Sunday.\\n\\n⚽️ Ma...</td>\n      <td>Argentina</td>\n    </tr>\n    <tr>\n      <th>2</th>\n      <td>2022-11-21 03:26:22+00:00</td>\n      <td>😍 The #WorldCup2022 begins on Sunday.\\n\\n⚽️ Ma...</td>\n      <td>Argentina</td>\n    </tr>\n    <tr>\n      <th>3</th>\n      <td>2022-11-21 03:20:14+00:00</td>\n      <td>😍 The #WorldCup2022 begins on Sunday.\\n\\n⚽️ Ma...</td>\n      <td>Argentina</td>\n    </tr>\n    <tr>\n      <th>4</th>\n      <td>2022-11-21 03:14:19+00:00</td>\n      <td>FIFA World Cup is one of the most-watched spor...</td>\n      <td>Argentina</td>\n    </tr>\n    <tr>\n      <th>...</th>\n      <td>...</td>\n      <td>...</td>\n      <td>...</td>\n    </tr>\n    <tr>\n      <th>17863</th>\n      <td>2022-12-20 07:02:04+00:00</td>\n      <td>RT @ZeeverseGame: #Spain 🇪🇸 VS #Germany 🇩🇪\\n\\n...</td>\n      <td>Spain</td>\n    </tr>\n    <tr>\n      <th>17864</th>\n      <td>2022-12-20 08:50:34+00:00</td>\n      <td>@Fanatikkind What about players ranking\\n#Fana...</td>\n      <td>Spain</td>\n    </tr>\n    <tr>\n      <th>17865</th>\n      <td>2022-12-20 22:36:15+00:00</td>\n      <td>RT @Jameal18: Spain kicking penalties vs Moroc...</td>\n      <td>Spain</td>\n    </tr>\n    <tr>\n      <th>17866</th>\n      <td>2022-12-20 23:57:51+00:00</td>\n      <td>Countries with the most FIFA World Cup titles ...</td>\n      <td>Spain</td>\n    </tr>\n    <tr>\n      <th>17867</th>\n      <td>2022-12-21 01:45:43+00:00</td>\n      <td>#FIFA rankings after #FIFAWorldCupQatar2022 \\n...</td>\n      <td>Spain</td>\n    </tr>\n  </tbody>\n</table>\n<p>17868 rows × 3 columns</p>\n</div>"
     },
     "execution_count": 64,
     "metadata": {},
     "output_type": "execute_result"
    }
   ],
   "source": [
    "data"
   ],
   "metadata": {
    "collapsed": false
   }
  },
  {
   "cell_type": "code",
   "execution_count": null,
   "outputs": [],
   "source": [],
   "metadata": {
    "collapsed": false
   }
  }
 ],
 "metadata": {
  "kernelspec": {
   "display_name": "Python 3",
   "language": "python",
   "name": "python3"
  },
  "language_info": {
   "codemirror_mode": {
    "name": "ipython",
    "version": 2
   },
   "file_extension": ".py",
   "mimetype": "text/x-python",
   "name": "python",
   "nbconvert_exporter": "python",
   "pygments_lexer": "ipython2",
   "version": "2.7.6"
  }
 },
 "nbformat": 4,
 "nbformat_minor": 0
}
